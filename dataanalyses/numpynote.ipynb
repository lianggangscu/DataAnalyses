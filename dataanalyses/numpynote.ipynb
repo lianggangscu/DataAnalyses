{
 "cells": [
  {
   "cell_type": "markdown",
   "id": "9984d03a-f951-4f85-89a8-81bd4f36fbb1",
   "metadata": {},
   "source": [
    "## numpy \n",
    "\n",
    "### 1. numpy是什么\n",
    "\n",
    "- numpy是numcial python;\n",
    "- 创建了一个数据对象ndarray，可以进行高效的数值计算;\n",
    "- 包含了大量的数学函数，包括统计、线性代数，随机计算等;\n",
    "- 很多高级库，比如pandas，scipy，scikit-learn等都依赖于numpy;\n",
    "\n",
    "### 2. 为什么要用 numpy\n",
    "\n",
    "- 速度快：numpy使用C语言编写，可以充分利用CPU的并行计算能力，大大提高了运算速度;\n",
    "- 内存效率高：numpy使用了内存映射，使得数据在内存中可以直接访问，不用再拷贝到Python的内存中，大大节省了内存;\n",
    "- 广播机制：numpy的广播机制可以使得数组运算更加方便和快捷;\n",
    "- 便于学习：numpy的API设计简洁易懂，学习成本低，可以快速上手;\n",
    "\n",
    "### 3. numpy的安装\n",
    "\n",
    "- 直接安装：pip install numpy\n",
    "- 下载安装：从numpy官网下载安装包，解压后运行python setup.py install命令安装;\n",
    "- 在虚拟环境安装：conda install numpy (在激活的环境) \n"
   ]
  },
  {
   "cell_type": "code",
   "execution_count": 1,
   "id": "06ffdf5f",
   "metadata": {},
   "outputs": [
    {
     "name": "stdout",
     "output_type": "stream",
     "text": [
      "numpy version: 1.26.4\n"
     ]
    }
   ],
   "source": [
    "# 首先导入库，然后判断是否安装成功\n",
    "import numpy as np\n",
    "print(f\"numpy version: {np.__version__}\")"
   ]
  },
  {
   "cell_type": "code",
   "execution_count": 2,
   "id": "86c437cb",
   "metadata": {},
   "outputs": [
    {
     "name": "stdout",
     "output_type": "stream",
     "text": [
      "Python list: 0.02492547035217285\n",
      "NumPy: 0.0024569034576416016\n"
     ]
    }
   ],
   "source": [
    "#对比ndarray和python list效率（10-1000倍数，基于数据的规模）\n",
    "import numpy as np\n",
    "import time\n",
    "\n",
    "py_list = list(range(1000000))\n",
    "np_arr = np.arange(1000000)\n",
    "\n",
    "# Python列表循环求和\n",
    "start = time.time()\n",
    "sum(py_list)  # 约0.03秒\n",
    "print(\"Python list:\", time.time()-start)\n",
    "\n",
    "# NumPy向量化求和\n",
    "start = time.time()\n",
    "np.sum(np_arr)  # 约0.0001秒\n",
    "print(\"NumPy:\", time.time()-start)"
   ]
  },
  {
   "cell_type": "code",
   "execution_count": 2,
   "id": "6f525122",
   "metadata": {},
   "outputs": [
    {
     "name": "stdout",
     "output_type": "stream",
     "text": [
      "36.8 ms ± 8.13 ms per loop (mean ± std. dev. of 7 runs, 10 loops each)\n",
      "2.05 s ± 66.9 ms per loop (mean ± std. dev. of 7 runs, 1 loop each)\n"
     ]
    }
   ],
   "source": [
    "import numpy as np\n",
    "\n",
    "data =np.arange(100000000)\n",
    "p_data = data.tolist()\n",
    "%timeit np.sum(data)\n",
    "%timeit sum(p_data)\n",
    "#也可以使用魔法命令观察结果"
   ]
  },
  {
   "cell_type": "markdown",
   "id": "4acb2983",
   "metadata": {},
   "source": [
    "\n",
    "### 4. numpy的基本使用\n",
    "\n",
    "- 创建数组：numpy.array(object, dtype=None, copy=True, order='K', subok=False, ndmin=0)\n",
    "- 数组的属性：shape, ndim, size, dtype, itemsize, nbytes, strides, ctypes, data\n",
    "- 数组的索引、切片、迭代：索引、切片、迭代都与list、tuple类似，但速度更快;\n"
   ]
  },
  {
   "cell_type": "markdown",
   "id": "e7a29b35",
   "metadata": {},
   "source": [
    "####  numpy内存布局\n",
    "\n",
    "numpy在内存中是以线性的方式存储（本质上就是一个一维数组），这部分数据包括两个部分：一部分为meta data;另一部分为data。\n",
    "我们可以在order中指定数据存储的顺序，默认是C（行优先）；也可以通过reshape函数改变数据存储的形状。\n",
    "\n",
    "meta data包括shape、strides、dtype、flags等信息，这些信息在numpy中都以属性的形式存在。  \n",
    "data部分存储了numpy数组中的实际数据，其存储顺序与order有关，默认是C（行优先）；也可以通过reshape函数改变数据存储的形状。\n"
   ]
  },
  {
   "cell_type": "code",
   "execution_count": 4,
   "id": "91cf7c05",
   "metadata": {},
   "outputs": [
    {
     "name": "stdout",
     "output_type": "stream",
     "text": [
      "arrc:[[1 2 3]\n",
      " [4 5 6]]\n",
      "\n",
      "arrf:[[1 2 3]\n",
      " [4 5 6]]\n",
      "\n",
      "========================\n",
      "C-order strides: (12, 4)\n",
      "F-order strides: (4, 8)\n"
     ]
    }
   ],
   "source": [
    "# C顺序 vs F顺序数组\n",
    "arr_c = np.array([[1,2,3], [4,5,6]], order='C')\n",
    "arr_f = np.array([[1,2,3], [4,5,6]], order='F')\n",
    "\n",
    "print(f\"arrc:{arr_c}\\n\")\n",
    "print(f\"arrf:{arr_f}\\n\")\n",
    "print(\"=\"*24)\n",
    "print(\"C-order strides:\\n\", arr_c.strides)  # (24, 8)\n",
    "print(\"F-order strides:\\n\", arr_f.strides)  # (8, 16)\n"
   ]
  },
  {
   "cell_type": "code",
   "execution_count": null,
   "id": "503d6645",
   "metadata": {},
   "outputs": [],
   "source": []
  }
 ],
 "metadata": {
  "kernelspec": {
   "display_name": "Python 3 (ipykernel)",
   "language": "python",
   "name": "python3"
  },
  "language_info": {
   "codemirror_mode": {
    "name": "ipython",
    "version": 3
   },
   "file_extension": ".py",
   "mimetype": "text/x-python",
   "name": "python",
   "nbconvert_exporter": "python",
   "pygments_lexer": "ipython3",
   "version": "3.11.5"
  }
 },
 "nbformat": 4,
 "nbformat_minor": 5
}
